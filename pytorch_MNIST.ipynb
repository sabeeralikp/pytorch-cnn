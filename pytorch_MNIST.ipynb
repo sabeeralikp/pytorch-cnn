{
  "nbformat": 4,
  "nbformat_minor": 0,
  "metadata": {
    "colab": {
      "provenance": []
    },
    "kernelspec": {
      "name": "python3",
      "display_name": "Python 3"
    },
    "language_info": {
      "name": "python"
    }
  },
  "cells": [
    {
      "cell_type": "code",
      "execution_count": null,
      "metadata": {
        "id": "qlkWoHGPdDig"
      },
      "outputs": [],
      "source": [
        "import torch\n",
        "from torch import nn\n",
        "\n",
        "from torch.utils.data import DataLoader\n",
        "from torchvision import datasets\n",
        "from torchvision.transforms import ToTensor"
      ]
    },
    {
      "cell_type": "code",
      "source": [
        "torch.cuda.is_available()"
      ],
      "metadata": {
        "colab": {
          "base_uri": "https://localhost:8080/"
        },
        "id": "OvQsbmj8j9Yl",
        "outputId": "d1d61add-79ea-4efa-9fe6-60042eba52c9"
      },
      "execution_count": null,
      "outputs": [
        {
          "output_type": "execute_result",
          "data": {
            "text/plain": [
              "False"
            ]
          },
          "metadata": {},
          "execution_count": 2
        }
      ]
    },
    {
      "cell_type": "code",
      "source": [
        "import numpy\n",
        "\n",
        "lst = [1, 2, 3]\n",
        "\n",
        "numpy_list = numpy.array(lst)\n",
        "\n",
        "print(type(numpy_list))"
      ],
      "metadata": {
        "colab": {
          "base_uri": "https://localhost:8080/"
        },
        "id": "2fastrkoodUy",
        "outputId": "20276701-3b40-4e51-aaa9-6d18c5164da8"
      },
      "execution_count": null,
      "outputs": [
        {
          "output_type": "stream",
          "name": "stdout",
          "text": [
            "<class 'numpy.ndarray'>\n"
          ]
        }
      ]
    },
    {
      "cell_type": "code",
      "source": [
        "train_data = datasets.MNIST(\n",
        "    root=\"data\",\n",
        "    train=True,\n",
        "    download=True,\n",
        "    transform=ToTensor()\n",
        ")\n",
        "\n",
        "\n",
        "test_data =  datasets.MNIST(\n",
        "    root=\"data\",\n",
        "    train=False,\n",
        "    download=True,\n",
        "    transform=ToTensor()\n",
        ")"
      ],
      "metadata": {
        "id": "qfhT7IXKkJtS"
      },
      "execution_count": null,
      "outputs": []
    },
    {
      "cell_type": "code",
      "source": [
        "train_data"
      ],
      "metadata": {
        "colab": {
          "base_uri": "https://localhost:8080/"
        },
        "id": "jFdfHMogo_oW",
        "outputId": "0fa90f8c-f1a3-4d85-c32f-976cae7c9241"
      },
      "execution_count": null,
      "outputs": [
        {
          "output_type": "execute_result",
          "data": {
            "text/plain": [
              "Dataset MNIST\n",
              "    Number of datapoints: 60000\n",
              "    Root location: data\n",
              "    Split: Train\n",
              "    StandardTransform\n",
              "Transform: ToTensor()"
            ]
          },
          "metadata": {},
          "execution_count": 5
        }
      ]
    },
    {
      "cell_type": "code",
      "source": [
        "train_dataloader = DataLoader(\n",
        "  dataset = train_data,\n",
        "  batch_size = 512,\n",
        "  shuffle = True,\n",
        ")\n",
        "\n",
        "test_dataloader = DataLoader(\n",
        "  dataset = test_data,\n",
        "  batch_size = 512,\n",
        "  shuffle = True,\n",
        ")"
      ],
      "metadata": {
        "id": "-7__Vydipzrp"
      },
      "execution_count": null,
      "outputs": []
    },
    {
      "cell_type": "code",
      "source": [
        "train_dataloader"
      ],
      "metadata": {
        "colab": {
          "base_uri": "https://localhost:8080/"
        },
        "id": "vrcDUjHlrxT8",
        "outputId": "aa3fd462-d89d-4eca-fc67-21a3fb888da6"
      },
      "execution_count": null,
      "outputs": [
        {
          "output_type": "execute_result",
          "data": {
            "text/plain": [
              "<torch.utils.data.dataloader.DataLoader at 0x7bbe33a0b940>"
            ]
          },
          "metadata": {},
          "execution_count": 7
        }
      ]
    },
    {
      "cell_type": "code",
      "source": [
        "class NeuralNetwork(nn.Module):\n",
        "  def __init__(self):\n",
        "    super().__init__()\n",
        "    self.flatten = nn.Flatten()\n",
        "    self.relu_stack = nn.Sequential(\n",
        "        nn.Linear(28*28, 512),\n",
        "        nn.ReLU(),\n",
        "        nn.Linear(512, 512),\n",
        "        nn.ReLU(),\n",
        "        nn.Linear(512, 512),\n",
        "        nn.ReLU(),\n",
        "        nn.Linear(512, 10)\n",
        "    )\n",
        "\n",
        "  def forward(self, x):\n",
        "    x = self.flatten(x)\n",
        "    logits = self.relu_stack(x)\n",
        "    return logits\n"
      ],
      "metadata": {
        "id": "cHzLxr-ssLvE"
      },
      "execution_count": null,
      "outputs": []
    },
    {
      "cell_type": "code",
      "source": [
        "model = NeuralNetwork()\n",
        "loss_fn = nn.CrossEntropyLoss()\n",
        "optimizer = torch.optim.AdamW(model.parameters(), lr=1e-3)"
      ],
      "metadata": {
        "id": "btXQvsP5r3wI"
      },
      "execution_count": null,
      "outputs": []
    },
    {
      "cell_type": "code",
      "source": [
        "def train(dataloader, model, loss_fn, optimizer):\n",
        "  size = len(dataloader.dataset)\n",
        "  model.train()\n",
        "  for batch, (x,y) in enumerate(dataloader):\n",
        "    pred = model(x)\n",
        "    loss = loss_fn(pred, y)\n",
        "\n",
        "    loss.backward()\n",
        "    optimizer.step()\n",
        "    optimizer.zero_grad()\n",
        "\n",
        "    if batch % 100 == 0:\n",
        "      loss, current = loss.item(), (batch + 1) * len(x)\n",
        "      print(f'loss: {loss} [{current}/{size}]')"
      ],
      "metadata": {
        "id": "RrL_szWbCDyy"
      },
      "execution_count": null,
      "outputs": []
    },
    {
      "cell_type": "code",
      "source": [
        "def test(dataloader, model, loss_fn):\n",
        "  size = len(dataloader.dataset)\n",
        "  num_batches = len(dataloader)\n",
        "  model.eval()\n",
        "  test_loss, correct = 0, 0\n",
        "  with torch.no_grad():\n",
        "    for x,y in dataloader:\n",
        "      pred = model(x)\n",
        "      test_loss += loss_fn(pred, y).item()\n",
        "      correct += (pred.argmax(1)==y).type(torch.float).sum().item()\n",
        "\n",
        "  test_loss /= num_batches\n",
        "  correct /= size\n",
        "  print(f\"Test Accuracy: {(100*correct)} \\n Average Loss: {test_loss}\")"
      ],
      "metadata": {
        "id": "OFxfzYPPGc62"
      },
      "execution_count": null,
      "outputs": []
    },
    {
      "cell_type": "code",
      "source": [
        "epochs = 20\n",
        "\n",
        "for t in range(epochs):\n",
        "  print(f\"Epoch {t+1}\\n-------------------------------\")\n",
        "  train(train_dataloader, model, loss_fn, optimizer)\n",
        "  test(test_dataloader, model, loss_fn)\n",
        "\n",
        "print(\"Training Completed\")"
      ],
      "metadata": {
        "colab": {
          "base_uri": "https://localhost:8080/"
        },
        "id": "P4dlpTCxKxEw",
        "outputId": "97a90dc7-296b-4cb4-e82b-2406912e183d"
      },
      "execution_count": null,
      "outputs": [
        {
          "output_type": "stream",
          "name": "stdout",
          "text": [
            "Epoch 1\n",
            "-------------------------------\n",
            "loss: 2.3014585971832275 [512/60000]\n",
            "loss: 0.23792752623558044 [51712/60000]\n",
            "Test Accuracy: 94.42 \n",
            " Average Loss: 0.19169214814901353\n",
            "Epoch 2\n",
            "-------------------------------\n",
            "loss: 0.16394643485546112 [512/60000]\n",
            "loss: 0.11043521016836166 [51712/60000]\n",
            "Test Accuracy: 96.45 \n",
            " Average Loss: 0.1126879595220089\n",
            "Epoch 3\n",
            "-------------------------------\n",
            "loss: 0.09634947776794434 [512/60000]\n",
            "loss: 0.08392035961151123 [51712/60000]\n",
            "Test Accuracy: 96.97 \n",
            " Average Loss: 0.0957910392433405\n",
            "Epoch 4\n",
            "-------------------------------\n",
            "loss: 0.06065954267978668 [512/60000]\n",
            "loss: 0.05616749823093414 [51712/60000]\n",
            "Test Accuracy: 97.57000000000001 \n",
            " Average Loss: 0.07218094244599342\n",
            "Epoch 5\n",
            "-------------------------------\n",
            "loss: 0.023813746869564056 [512/60000]\n",
            "loss: 0.02144673652946949 [51712/60000]\n",
            "Test Accuracy: 97.89 \n",
            " Average Loss: 0.06808939445763826\n",
            "Epoch 6\n",
            "-------------------------------\n",
            "loss: 0.02987810969352722 [512/60000]\n",
            "loss: 0.027885744348168373 [51712/60000]\n",
            "Test Accuracy: 97.89999999999999 \n",
            " Average Loss: 0.06799677591770888\n",
            "Epoch 7\n",
            "-------------------------------\n",
            "loss: 0.018061058595776558 [512/60000]\n",
            "loss: 0.011850723996758461 [51712/60000]\n",
            "Test Accuracy: 97.78999999999999 \n",
            " Average Loss: 0.07471635341644287\n",
            "Epoch 8\n",
            "-------------------------------\n",
            "loss: 0.020311620086431503 [512/60000]\n",
            "loss: 0.051693327724933624 [51712/60000]\n",
            "Test Accuracy: 97.95 \n",
            " Average Loss: 0.06886825822293759\n",
            "Epoch 9\n",
            "-------------------------------\n",
            "loss: 0.0325903557240963 [512/60000]\n",
            "loss: 0.02524714171886444 [51712/60000]\n",
            "Test Accuracy: 98.0 \n",
            " Average Loss: 0.07351407017558813\n",
            "Epoch 10\n",
            "-------------------------------\n",
            "loss: 0.008796689100563526 [512/60000]\n",
            "loss: 0.006345991976559162 [51712/60000]\n",
            "Test Accuracy: 97.82 \n",
            " Average Loss: 0.08868098370730877\n",
            "Epoch 11\n",
            "-------------------------------\n",
            "loss: 0.0092223035171628 [512/60000]\n",
            "loss: 0.015154779888689518 [51712/60000]\n",
            "Test Accuracy: 98.11 \n",
            " Average Loss: 0.07940151784569024\n",
            "Epoch 12\n",
            "-------------------------------\n",
            "loss: 0.008271398022770882 [512/60000]\n",
            "loss: 0.012790828943252563 [51712/60000]\n",
            "Test Accuracy: 98.05 \n",
            " Average Loss: 0.07839647773653269\n",
            "Epoch 13\n",
            "-------------------------------\n",
            "loss: 0.0025087492540478706 [512/60000]\n",
            "loss: 0.007475418504327536 [51712/60000]\n",
            "Test Accuracy: 98.08 \n",
            " Average Loss: 0.08449501991271972\n",
            "Epoch 14\n",
            "-------------------------------\n",
            "loss: 0.0029351674020290375 [512/60000]\n",
            "loss: 0.014431938529014587 [51712/60000]\n",
            "Test Accuracy: 98.09 \n",
            " Average Loss: 0.08231215346604585\n",
            "Epoch 15\n",
            "-------------------------------\n",
            "loss: 0.0165406446903944 [512/60000]\n",
            "loss: 0.01327111292630434 [51712/60000]\n",
            "Test Accuracy: 97.82 \n",
            " Average Loss: 0.09052010662853718\n",
            "Epoch 16\n",
            "-------------------------------\n",
            "loss: 0.010913428850471973 [512/60000]\n",
            "loss: 0.004792747087776661 [51712/60000]\n",
            "Test Accuracy: 98.09 \n",
            " Average Loss: 0.07809129785746335\n",
            "Epoch 17\n",
            "-------------------------------\n",
            "loss: 0.005318682175129652 [512/60000]\n",
            "loss: 0.0032340066973119974 [51712/60000]\n",
            "Test Accuracy: 98.24000000000001 \n",
            " Average Loss: 0.07703128876164556\n",
            "Epoch 18\n",
            "-------------------------------\n",
            "loss: 0.003232574090361595 [512/60000]\n",
            "loss: 0.017104612663388252 [51712/60000]\n",
            "Test Accuracy: 98.25 \n",
            " Average Loss: 0.08644841751083732\n",
            "Epoch 19\n",
            "-------------------------------\n",
            "loss: 0.004694431554526091 [512/60000]\n",
            "loss: 0.001234299037605524 [51712/60000]\n",
            "Test Accuracy: 98.08 \n",
            " Average Loss: 0.09983433596789837\n",
            "Epoch 20\n",
            "-------------------------------\n",
            "loss: 0.0024269958958029747 [512/60000]\n",
            "loss: 0.006078148726373911 [51712/60000]\n",
            "Test Accuracy: 98.02 \n",
            " Average Loss: 0.09282164815813303\n",
            "Training Completed\n"
          ]
        }
      ]
    },
    {
      "cell_type": "code",
      "source": [
        "import matplotlib.pyplot as plt\n",
        "\n",
        "index = 1000\n",
        "\n",
        "model.eval()\n",
        "\n",
        "x, y = test_data[index][0], test_data[index][1]\n",
        "\n",
        "plt.imshow(x[0])\n",
        "\n",
        "with torch.no_grad():\n",
        "  pred = model(x)\n",
        "  predicted, actual = pred[0].argmax(0), y\n",
        "  print(f\"Predicted: {predicted} \\nActual: {actual}\")"
      ],
      "metadata": {
        "colab": {
          "base_uri": "https://localhost:8080/",
          "height": 465
        },
        "id": "qDmXASBTLLN3",
        "outputId": "0017e6f1-9825-4810-ae0d-07c468aa942a"
      },
      "execution_count": null,
      "outputs": [
        {
          "output_type": "stream",
          "name": "stdout",
          "text": [
            "Predicted: 9 \n",
            "Actual: 9\n"
          ]
        },
        {
          "output_type": "display_data",
          "data": {
            "text/plain": [
              "<Figure size 640x480 with 1 Axes>"
            ],
            "image/png": "[encoded data removed]"
          },
          "metadata": {}
        }
      ]
    },
    {
      "cell_type": "code",
      "source": [
        "pred"
      ],
      "metadata": {
        "colab": {
          "base_uri": "https://localhost:8080/"
        },
        "id": "dvdADwqlUIx7",
        "outputId": "65b59c36-ad26-4998-cba9-b22f0365b996"
      },
      "execution_count": null,
      "outputs": [
        {
          "output_type": "execute_result",
          "data": {
            "text/plain": [
              "tensor([[ -5.5122,  -5.4064,  -8.8024,   5.8877,  -2.8793,  -7.7270, -19.1880,\n",
              "           0.6391,  -9.1522,  12.5136]])"
            ]
          },
          "metadata": {},
          "execution_count": 19
        }
      ]
    },
    {
      "cell_type": "code",
      "source": [],
      "metadata": {
        "id": "Qllc2wnTWDzJ"
      },
      "execution_count": null,
      "outputs": []
    }
  ]
}